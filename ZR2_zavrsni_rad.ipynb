{
  "nbformat": 4,
  "nbformat_minor": 0,
  "metadata": {
    "kernelspec": {
      "display_name": "Python 3",
      "language": "python",
      "name": "python3"
    },
    "language_info": {
      "codemirror_mode": {
        "name": "ipython",
        "version": 3
      },
      "file_extension": ".py",
      "mimetype": "text/x-python",
      "name": "python",
      "nbconvert_exporter": "python",
      "pygments_lexer": "ipython3",
      "version": "3.7.3"
    },
    "colab": {
      "name": "ZR2_zavrsni_rad.ipynb",
      "provenance": []
    }
  },
  "cells": [
    {
      "cell_type": "markdown",
      "metadata": {
        "id": "EQA7ptqOc7mo"
      },
      "source": [
        "# Solving the problem of water transport in dessicated soil\n",
        "\n",
        "We start with a second-order BVP of the form\n",
        "\n",
        "$$(K_rP)'=\\frac{1}{2}x\\Bigl(-\\frac{dS}{dP}\\Bigr)P'\\\\ 0<x<\\infty$$\n",
        "where\n",
        "\n",
        "$$S=\\frac{1-S_r}{1+(-P\\frac{L}{A})^\\eta}+S_r$$\n",
        "\n",
        "$$K_r=\\frac{1}{1+(-P\\frac{L}{B})^\\lambda}$$\n",
        "\n",
        "$$P(0)=\\beta_0, P(\\infty)=\\beta_1$$\n",
        "\n",
        "$$S_r=0.31, A=231, B=146, \\eta=3.65, \\lambda=6.65, L=100$$\n",
        "\n",
        "Analytically, we can rewrite this problem in a more standard form:\n",
        "\n",
        "$$P''=\\frac{1}{K_r}\\biggl(\\frac{1}{2}x\\Bigl(-\\frac{dS}{dP}\\Bigr)P'-K_r'P'\\biggr)$$\n",
        "\n",
        "Additionally, the problem is defined in an infinite interval, so we simplify it by fixing the right-hand boundary at $b=10$ instead of $\\infty$."
      ]
    },
    {
      "cell_type": "markdown",
      "metadata": {
        "id": "-UwUmHROc7mp"
      },
      "source": [
        "## Numerical solution using the shooting method\n",
        "\n",
        "To solve the problem numerically, we first reduce it to a system of two first-order ODE by introducing $P_1=P$ and $P_2=P'$:\n",
        "\n",
        "\\begin{align}\n",
        "dP_1&=P_2\\\\\n",
        "dP_2&=\\Bigl(1+\\Bigl(-P_1\\frac{L}{B}\\Bigr)^\\lambda\\Bigr)\\Biggl[\\frac{1}{2}x\\frac{-\\eta\\frac{L}{A}(1-S_r)(-P_1\\frac{L}{A}^{\\eta-1}P_1')}{\\Bigl(1+(-P_1\\frac{L}{A})^\\eta\\Bigr)^2}-\\frac{(P_2')^2\\lambda\\frac{L}{B}(-P_1\\frac{L}{B})^{\\lambda-1}}{\\Bigl(1+(-P_1\\frac{L}{B})^\\lambda\\Bigr)^2}\\Biggr]\\\\\n",
        "P_1(0)&=\\beta_0\\\\\n",
        "P_2(0)&=dP(0)=s\n",
        "\\end{align}\n",
        "\n",
        "By adjusting the free parameter $s$ and solving this initial value problem, we obtain different values in the right-hand boundary: $P_1(b; s)$\n",
        "\n",
        "And so we define an error function $F: \\mathbb{R}\\rightarrow\\mathbb{R}$ with\n",
        "\n",
        "$$F(s)=P_1(b;s)-\\beta_1$$\n",
        "\n",
        "The problem is now reduced to finding the root $s_0$ of $F$ such that $F(s_0)=0$. Having determined the correct initial value for $P_2$, we can solve the initial value problem one last time to obtain the final solution. We will use a 4th-order Runge Kutta method to solve the given initial value problems numerically. "
      ]
    },
    {
      "cell_type": "code",
      "metadata": {
        "id": "uIUxytQkc7mq"
      },
      "source": [
        "import numpy as np\n",
        "import matplotlib.pyplot as plt"
      ],
      "execution_count": null,
      "outputs": []
    },
    {
      "cell_type": "code",
      "metadata": {
        "id": "ErMz2bsHc7mv"
      },
      "source": [
        "#This is the right-hand side of the IVP\n",
        "def f(x,y,\n",
        "     S_r=0.32,\n",
        "     A=231,\n",
        "     B=146,\n",
        "     eta=3.65,\n",
        "     l=6.65,\n",
        "     L=100):\n",
        "    P1=y[0]\n",
        "    P2=y[1]\n",
        "    dP1=P2\n",
        "    \n",
        "    T1=1+(-P1*L/B)**l\n",
        "    T2=x/2\n",
        "    T3=-eta*L/A*(1-S_r)*(-P1*L/A)**(eta-1)*P2\n",
        "    T4=(1+(-P1*L/A)**eta)**2\n",
        "    T5=-P2**2*l*L/B*(-P1*L/B)**(l-1)\n",
        "    T6=(1+(-P1*L/B)**l)**2\n",
        "    \n",
        "    dP2=T1*(T2*T3/T4+T5/T6)\n",
        "\n",
        "    return np.array([dP1, dP2])\n",
        "\n",
        "#Fourth-order Runge-Kutta method for solving SDE\n",
        "def rk4v(f, y0, x0, xn, n):\n",
        "    d=y0.shape[0]\n",
        "    y=np.zeros((d, n+1))\n",
        "    y[:,0]=y0[:,0]\n",
        "    h=(xn-x0)/n\n",
        "    x=np.linspace(x0,xn,n+1)\n",
        "    for i in range(n):\n",
        "        k1=f(x[i], y[:,i])\n",
        "        k2=f(x[i]+h/2, y[:,i]+h*k1/2)\n",
        "        k3=f(x[i]+h/2, y[:,i]+h*k2/2)\n",
        "        k4=f(x[i+1], y[:,i]+h*k3)\n",
        "\n",
        "        y[:,i+1]=y[:,i]+h*(k1/6+k2/3+k3/3+k4/6)\n",
        "    return y,x\n",
        "\n",
        "#The error function\n",
        "def F(s, yn):\n",
        "    y0=np.array([[0], [s]])\n",
        "    x0,xn=0,10\n",
        "    n=100\n",
        "    y_current,_=rk4v(f, y0, x0, xn, n)\n",
        "    return y_current[0,-1]-yn\n"
      ],
      "execution_count": null,
      "outputs": []
    },
    {
      "cell_type": "markdown",
      "metadata": {
        "id": "Bo_GllaLc7m1"
      },
      "source": [
        "## Finding the root\n",
        "\n",
        "As $F$ is a real-valued function in $\\mathbb{R}$, finding its root is a relatively simple matter. In this instance, we have elected to use Newton's method. Since this method also needs to evaluate $dF$ in order to function, we will approximate the derivative using forward finite differentiation with $\\delta s=10^{-5}$:\n",
        "\n",
        "$$dF(s)\\approx\\frac{F(s+\\delta s)-F(s)}{\\delta s}$$"
      ]
    },
    {
      "cell_type": "code",
      "metadata": {
        "id": "5UXK6H4dc7m2"
      },
      "source": [
        "#Newton's method for finding roots of real-valued function with a real variable\n",
        "def Newton_approximate(F, s0, yn, accuracy, max_iter):\n",
        "    delta=1e-5\n",
        "    F_current=F(s0, yn)\n",
        "    i=0\n",
        "    while abs(F_current)>accuracy and i<max_iter:\n",
        "        #slope approximation\n",
        "        dF_current=(F(s0+delta, yn)-F_current)/delta\n",
        "        s0=s0-F_current/dF_current\n",
        "        F_current=F(s0, yn)\n",
        "        #print(F_current, dF_current)\n",
        "        i=i+1\n",
        "    print('Newton method completed.')\n",
        "    print('Final accuracy: ', F_current, '\\nRoot: ', s0, '\\nNewton iterations: ', i)\n",
        "    return s0, i    "
      ],
      "execution_count": null,
      "outputs": []
    },
    {
      "cell_type": "markdown",
      "metadata": {
        "id": "Z-gAdPcuc7m5"
      },
      "source": [
        "Before locating $s_0$ accurately, we can plot F(s) in a wide interval to confirm that it does, in fact, have a root. Even though this may not be possible in practice due to computational constraints, it will help us locate a good starting point for Newton's method. "
      ]
    },
    {
      "cell_type": "code",
      "metadata": {
        "scrolled": true,
        "id": "M_aaq3khc7m6",
        "outputId": "2590057e-220a-4959-d6e6-2351cc3a3e39"
      },
      "source": [
        "s_vector=np.linspace(-0.4,0,100)\n",
        "F_vector=[F(s, -1) for s in s_vector]\n",
        "plt.plot(s_vector,F_vector)\n",
        "plt.plot([s_vector[0], s_vector[-1]], [0, 0], 'k--')\n",
        "plt.plot([-0.127, -0.127], [max(F_vector), min(F_vector)], 'k--')\n",
        "plt.plot([-0.127], [0], 'ro')\n",
        "plt.xlabel('s')\n",
        "plt.ylabel('F')\n",
        "plt.show()"
      ],
      "execution_count": null,
      "outputs": [
        {
          "output_type": "display_data",
          "data": {
            "image/png": "[encoded data removed]",
            "text/plain": [
              "<Figure size 432x288 with 1 Axes>"
            ]
          },
          "metadata": {
            "tags": [],
            "needs_background": "light"
          }
        }
      ]
    },
    {
      "cell_type": "markdown",
      "metadata": {
        "id": "UxXMIZkic7nB"
      },
      "source": [
        "We can now apply the shooting method to obtain an accurate value for $s_0$:"
      ]
    },
    {
      "cell_type": "code",
      "metadata": {
        "id": "D4xmJrpec7nC",
        "outputId": "7afb41da-8cf7-4b52-af7c-70c009df4e5f"
      },
      "source": [
        "S_r=0.32\n",
        "A=231\n",
        "B=146\n",
        "eta=3.65\n",
        "l=6.65\n",
        "L=100\n",
        "\n",
        "s0=-0.1\n",
        "yn=-1\n",
        "accuracy=1e-10\n",
        "max_iter=30\n",
        "s0,i=Newton_approximate(F, s0, yn, accuracy, max_iter)"
      ],
      "execution_count": null,
      "outputs": [
        {
          "output_type": "stream",
          "text": [
            "Newton method completed.\n",
            "Final accuracy:  8.427702979929563e-13 \n",
            "Root:  -0.12738775152728626 \n",
            "Newton iterations:  4\n"
          ],
          "name": "stdout"
        }
      ]
    },
    {
      "cell_type": "markdown",
      "metadata": {
        "id": "SG1bqsUAc7nF"
      },
      "source": [
        "We have calculated $s_0$ to be $-0.127387$. Now we can plug that back into the IVP given above and use the Runge-Kutta method again to approximate the final solution for $P$:"
      ]
    },
    {
      "cell_type": "code",
      "metadata": {
        "id": "QWzqoL5Uc7nG",
        "outputId": "86843fcb-574c-4e69-d415-3c7f75ef070f"
      },
      "source": [
        "x0,xn=0,10\n",
        "n=100\n",
        "y0=np.array([[0], [s0]])\n",
        "y,x=rk4v(f, y0, x0, xn, n)\n",
        "h=(xn-x0)/n\n",
        "\n",
        "P=y[0,:]\n",
        "dP=y[1,:]\n",
        "S=(1-S_r)/(1+(-P*L/A)**eta) + S_r\n",
        "K_r=1/(1+(-P*L/B)**l)\n",
        "\n",
        "fig, (P_plot, S_plot, K_r_plot) = plt.subplots(3,1, figsize=(8,8))\n",
        "P_plot.plot(x,P)\n",
        "P_plot.set_title('Water Pressure', y=1)\n",
        "S_plot.plot(x, S)\n",
        "S_plot.set_title('Saturation', y=1)\n",
        "K_r_plot.plot(x, K_r)\n",
        "K_r_plot.set_title('Relative Permeability')\n",
        "plt.subplots_adjust(hspace=0.5)"
      ],
      "execution_count": null,
      "outputs": [
        {
          "output_type": "display_data",
          "data": {
            "image/png": "[encoded data removed]",
            "text/plain": [
              "<Figure size 576x576 with 3 Axes>"
            ]
          },
          "metadata": {
            "tags": [],
            "needs_background": "light"
          }
        }
      ]
    },
    {
      "cell_type": "markdown",
      "metadata": {
        "id": "y1TmOnYic7nJ"
      },
      "source": [
        "## Verifying the results\n",
        "\n",
        "We don't have an exact solution for $P$, but we can still verify the accuracy of our approximation by observing whether it fits into the BVP from the start, using an error measure $e$ defined as the absolute difference between the left- and right-hand side of the initial problem, factoring in our approximations:\n",
        "\n",
        "$$e_i=\\mid(K_r'P)'(x_i)-\\frac{1}{2}x_i\\Bigl(-\\frac{dS}{dP}(x_i)\\Bigr)P'(x_i)\\mid\\\\ 0<x<10$$"
      ]
    },
    {
      "cell_type": "code",
      "metadata": {
        "id": "JmhICIzGc7nK",
        "outputId": "ce7a14a2-34e0-49bc-8d60-6ec7b6bf9460"
      },
      "source": [
        "e=abs((1+(-P*L/B)**l)*( (x/2*-eta*L/A*(1-S_r)*(-P*L/A)**(eta-1)*dP)/(1+(-P*L/A)**eta)**2\n",
        "                      -dP**2*l*L/B*(-P*L/B)**(l-1)/(1+(-P*L/B)**l)**2 ))\n",
        "print(np.average(e), max(abs(e)), np.linalg.norm(e))\n",
        "plt.plot(e)\n",
        "plt.xlabel('i')\n",
        "plt.ylabel('e')\n",
        "plt.title('Error values')\n",
        "print(P[-1])"
      ],
      "execution_count": null,
      "outputs": [
        {
          "output_type": "stream",
          "text": [
            "0.010053166423458156 0.022012488429503558 0.13241398216687947\n",
            "-0.9999999999991572\n"
          ],
          "name": "stdout"
        },
        {
          "output_type": "display_data",
          "data": {
            "image/png": "[encoded data removed]",
            "text/plain": [
              "<Figure size 432x288 with 1 Axes>"
            ]
          },
          "metadata": {
            "tags": [],
            "needs_background": "light"
          }
        }
      ]
    },
    {
      "cell_type": "markdown",
      "metadata": {
        "id": "vl4HfpTxc7nM"
      },
      "source": [
        "## Instability\n",
        "\n",
        "One inconvenient property of the given problem is its instability - namely, the IVP can only be solved for a relatively narrow range of values $s$. Numerical methods diverge quickly for $s<-1$ and setting $s>0$ produces imaginary values immadiately, due to exponentiation of negative numbers in parts of the equation. We arrived at a suitable range of values where $F$ can actually be evaluated mostly by guess-work, which isn't exactly a rigorous mathematical principle. We believe this issue might be resolved computationally by searching through a wide range of values (e.g. $[-100,0]$), and seeing which values $F$ can be evaluated for, then starting the Newton search from there. "
      ]
    }
  ]
}