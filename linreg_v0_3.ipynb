{
  "nbformat": 4,
  "nbformat_minor": 0,
  "metadata": {
    "kernelspec": {
      "display_name": "Python 3",
      "language": "python",
      "name": "python3"
    },
    "language_info": {
      "codemirror_mode": {
        "name": "ipython",
        "version": 3
      },
      "file_extension": ".py",
      "mimetype": "text/x-python",
      "name": "python",
      "nbconvert_exporter": "python",
      "pygments_lexer": "ipython3",
      "version": "3.7.3"
    },
    "colab": {
      "name": "linreg_v0.3.ipynb",
      "provenance": []
    }
  },
  "cells": [
    {
      "cell_type": "markdown",
      "metadata": {
        "id": "Guc7Og1FjsyC"
      },
      "source": [
        "\n",
        "\n",
        "# Comparing the SVD and gradient descent methods for solving 2-dimensional linear regression\n",
        "\n",
        "Linear regression is a classic problem in numerical analysis. There are countless applications, as well as many different approaches to solving the problem. We will look at two such methods and try to compare them. But first, let us define the specific problem we have to solve. \n",
        "\n",
        "Let $X = \\{(x_i, y_i) : i=1, 2, ..., n\\} \\subset {\\rm I\\!R}^2$ be a set of points. Our goal is to find coefficients $a_1$ and $a_0$ such that the line \n",
        "\n",
        "$$y = a_1x+a_0$$\n",
        "\n",
        "best approximates the points in $X$ or, in other words, minimizes the following least-squares expression:\n",
        "\n",
        "$$E_X(a_0, a_1) = \\sum_{i=1}^{n}(a_1x_i+a_0-y_i)^2$$\n",
        "\n",
        "For testing purposes, we introduce a function to generate data sets with some convenient properties, namely a slight linear dependence between the $x$ and $y$ component of each point. The function *get_data_set()* generates points along a straight line, then displaces the $y$ component of each point slightly, according to a normal distribution. "
      ]
    },
    {
      "cell_type": "code",
      "metadata": {
        "id": "njrY0wWFjsyE"
      },
      "source": [
        "import numpy as np\n",
        "import matplotlib.pyplot as plt"
      ],
      "execution_count": null,
      "outputs": []
    },
    {
      "cell_type": "code",
      "metadata": {
        "id": "gxY-hKCdjsyH"
      },
      "source": [
        "def get_data_set(x_start = 0, x_end = 10, n = 11, a1 = 0.5, a0 = 2):\n",
        "    #Generates a random data set of n points with linear dependency\n",
        "    #The x coordinates comprise an equidistant subdivision of the interval [x_start, x_end]\n",
        "    #For each i=0, 1, ..., n-1, the coordinate y(i) is generated via normal distribution with \n",
        "    #mean (x[i]*a1+a0) and variance 1\n",
        "    \n",
        "    x = np.linspace(x_start, x_end, n)\n",
        "    y = np.random.randn(n)\n",
        "    y = y+(x*a1+a0)\n",
        "    return x, y"
      ],
      "execution_count": null,
      "outputs": []
    },
    {
      "cell_type": "markdown",
      "metadata": {
        "id": "nj1c42UkjsyK"
      },
      "source": [
        "Let's take a look at an example data set generated this way:"
      ]
    },
    {
      "cell_type": "code",
      "metadata": {
        "id": "JUSA5YvnjsyL",
        "colab": {
          "base_uri": "https://localhost:8080/",
          "height": 299
        },
        "outputId": "be544a35-398e-429f-c024-a38707524037"
      },
      "source": [
        "x, y = get_data_set(0, 20, 21)\n",
        "\n",
        "import matplotlib.pyplot as plt\n",
        "%matplotlib inline\n",
        "plt.plot(x, y, 'o', x, x*0.5+2, '-')"
      ],
      "execution_count": null,
      "outputs": [
        {
          "output_type": "execute_result",
          "data": {
            "text/plain": [
              "[<matplotlib.lines.Line2D at 0x7f4e8c841908>,\n",
              " <matplotlib.lines.Line2D at 0x7f4e8c841ac8>]"
            ]
          },
          "metadata": {
            "tags": []
          },
          "execution_count": 3
        },
        {
          "output_type": "display_data",
          "data": {
            "image/png": "[encoded data removed]",
            "text/plain": [
              "<Figure size 432x288 with 1 Axes>"
            ]
          },
          "metadata": {
            "tags": []
          }
        }
      ]
    },
    {
      "cell_type": "markdown",
      "metadata": {
        "id": "QY51GVLYjsyN"
      },
      "source": [
        "We can clearly see that, while not being strictly linear, the points are positioned roughly along the line $\\frac{1}{2}x+2$, and so we expect the solution to the TLS problem to have similar (but not identical) coefficients. We will also implement here the loss function $E_X$, which will later be used to measure the score for different solutions. "
      ]
    },
    {
      "cell_type": "code",
      "metadata": {
        "id": "bDhI9ZGyjsyO"
      },
      "source": [
        "def E_X(x, y, a0, a1):\n",
        "    return np.sum((a0+a1*x-y)**2)"
      ],
      "execution_count": null,
      "outputs": []
    },
    {
      "cell_type": "markdown",
      "metadata": {
        "id": "ZvA3afCSjsyR"
      },
      "source": [
        "## Solving the problem with singular value decomposition\n",
        "\n",
        "Now let us look at the first approach to solving the TLS problem - singular value decomposition. First, we re-formulate the problem using matrices:\n",
        "\n",
        "$$\n",
        "A = \n",
        "\\begin{bmatrix}\n",
        "    1 & x_1\\\\\n",
        "    1 & x_2\\\\\n",
        "    1 & x_3\\\\\n",
        "    \\vdots & \\vdots\\\\\n",
        "    1 & x_n\n",
        "\\end{bmatrix}, \n",
        "z = \n",
        "\\begin{bmatrix}\n",
        "a_0\\\\\n",
        "a_1\\\\\n",
        "\\end{bmatrix}, \n",
        "b = \n",
        "\\begin{bmatrix}\n",
        "y_1\\\\\n",
        "y_2\\\\\n",
        "y_3\\\\\n",
        "\\vdots\\\\\n",
        "y_n\n",
        "\\end{bmatrix}\n",
        "$$\n",
        "\n",
        "then the loss function $E_X$ can be re-written as \n",
        "\n",
        "$$E_X(a_0, a_1) = E_X(z) = \\left\\lVert Az-b\\right\\rVert_2$$\n",
        "\n",
        "Further, let $$A = U\\Sigma V^*,\\\\ U\\in\\mathbb{R}^{n\\times n}, \\Sigma\\in\\mathbb{R}^{n\\times2}, V\\in\\mathbb{R}^{2\\times2}$$\n",
        "\n",
        "Then according to *\"Nela Bosner: Fast methods for large scale singular value decomposition (2006)\"*, \n",
        "\n",
        "$$z = V\\Sigma^{-1}U(:,1:n)^Tb$$\n",
        "\n",
        "This is a very simple calculation using numpy, and the method *regress_via_svd()* implements it."
      ]
    },
    {
      "cell_type": "code",
      "metadata": {
        "id": "064Zrw12jsyR"
      },
      "source": [
        "def regress_via_svd(x, y):\n",
        "    #calculate the linear regression of dataset (x(i), y(i)), i=1, 2,..., n via singular value decomposition\n",
        "    #INPUT:\n",
        "    #x is a column vector corresponding to the x-coordinates in the data set\n",
        "    #y is a column vector corresponding to the y-coordinates in the data set\n",
        "    #OUTPUT:\n",
        "    #function returns the coefficients a1 and a0, such that the best approximation for the data set\n",
        "    #is the line y(x) = x*a1 + a0\n",
        "    \n",
        "    n=len(x)\n",
        "    A = np.zeros((n,2))\n",
        "    A[:,0] = np.ones(n)\n",
        "    A[:,1] = np.transpose(x)\n",
        "    \n",
        "    U, S, V = np.linalg.svd(A)\n",
        "    \n",
        "    solution = V@np.diag(S**-1)@np.transpose(U[:,0:2])@y\n",
        "    return solution[0], solution[1]"
      ],
      "execution_count": null,
      "outputs": []
    },
    {
      "cell_type": "markdown",
      "metadata": {
        "id": "_IQVckfMjsyU"
      },
      "source": [
        "Let's see the method at work, using the data set we generated previously. "
      ]
    },
    {
      "cell_type": "code",
      "metadata": {
        "id": "fLbCkZ5SjsyW",
        "colab": {
          "base_uri": "https://localhost:8080/",
          "height": 282
        },
        "outputId": "f76a0c63-61d0-4a3f-c86c-cd4f4c8fd453"
      },
      "source": [
        "a0_svd, a1_svd = regress_via_svd(x, y)\n",
        "plt.plot(x, y, 'o', x, a0_svd+a1_svd*x, '-')\n",
        "[a0_svd,a1_svd]"
      ],
      "execution_count": null,
      "outputs": [
        {
          "output_type": "execute_result",
          "data": {
            "text/plain": [
              "[2.1113995937962935, 0.4874957979055444]"
            ]
          },
          "metadata": {
            "tags": []
          },
          "execution_count": 6
        },
        {
          "output_type": "display_data",
          "data": {
            "image/png": "[encoded data removed]",
            "text/plain": [
              "<Figure size 432x288 with 1 Axes>"
            ]
          },
          "metadata": {
            "tags": []
          }
        }
      ]
    },
    {
      "cell_type": "markdown",
      "metadata": {
        "id": "w-Y_Pga8jsyZ"
      },
      "source": [
        "We can see that the optimal coefficients are $a_0\\approx2$ and $a_1\\approx0.5$, which was expected. "
      ]
    },
    {
      "cell_type": "markdown",
      "metadata": {
        "id": "Db1C1VLOjsya"
      },
      "source": [
        "## Solving the problem using gradient descent\n",
        "\n",
        "Let us take another look at the loss function: \n",
        "\n",
        "$E_X(a_0, a_1) = \\sum_{i=1}^{n}(a_0+a_1x-y_i)^2$\n",
        "\n",
        "This is a real, convex function with two real variables, however we will omit the proof for the convex property here. \n",
        "\n",
        "The gradient descent method is a relatively simple concept. Starting from some point $(a_0^k, a_1^k)$, we calculate the gradient \n",
        "\n",
        "$$\\overrightarrow{g_k} = \\bigtriangledown E_X(a_0^k, a_1^k)$$ \n",
        "\n",
        "in that point. We then parametrize $E_X$ along the following ray:\n",
        "\n",
        "$$t_k(s) = (t_0^k(s), t_1^k(s)) = (a_0^k + a_1^k) -s\\overrightarrow{g_k}, s\\in\\mathbb{R}_+\\\\\n",
        "p_k(s) = E_X(t_k(s))$$\n",
        "\n",
        "Owing to the convex property of $E_X$, the curve $p_k$ has a global minimum in some point $(a_0, a_1)$. We set $(a_0^{k+1}, a_1^{k+1}) = (a_0, a_1)$ and repeat the process. \n",
        "\n",
        "This method converges for all starting points $(a_0^0, a_1^0)$, however it seems intuitive that a good starting point would be the line between $(x_1, y_1)$ and $(x_n, y_n)$. So we start from the point\n",
        "\n",
        "$$\\begin{split}\n",
        "a_0^0 & = \\frac{y_n-y_1}{x_n-x_1}x_1+y_1\\\\\n",
        "a_1^0 & = \\frac{y_n-y_1}{x_n-x_1}\n",
        "\\end{split}$$\n",
        "\n",
        "Furthermore, we can easily calculate the gradient $\\overrightarrow{g_k}$:\n",
        "\n",
        "$$\\overrightarrow{g_k} = (A_0^k, A_1^k) = \\Big(2\\sum_i(a_1^kx_i+a_0^k-y_i), 2\\sum_i(x_i(a_1^kx_i+a_0^k-y_i)\\Big),\\\\\n",
        "p_k(s) = \\sum_i\\big(x_i(a_1^k-sA_1^k)+a_0^k-sA_0^k-y_i\\big)^2$$\n",
        "\n",
        "Thus, $p_k$ is a simple 2nd-degree polynomial, and we can easily find the point $s_k>0$ which minimizes it:\n",
        "\n",
        "$$s_k = \\frac{\\sum_i(x_ia_1^k+a_0^k-y_i)(x_iA_1^k+A_0^k)}{\\sum_i(x_iA_1^k+A_0^k)^2}$$\n",
        "\n",
        "And so we obtain the point $(a_0^{k+1}, a_1^{k+1})$ by\n",
        "\n",
        "$$(a_0^{k+1}, a_1^{k+1}) = (a_0^k, a_1^k) - s_kg_k = (a_0^k, a_1^k) - s_k(A_0^k, A_1^k)$$\n",
        "\n",
        "This method is implemented in *regress_via_grad_des()*"
      ]
    },
    {
      "cell_type": "code",
      "metadata": {
        "id": "YhH7GMpzjsyb"
      },
      "source": [
        "def regress_via_grad_des(x, y, max_iter=10, score_goal=0):\n",
        "    #calculate the linear regression of dataset (x(i), y(i)), i=1, 2,..., n via singular value decomposition\n",
        "    #INPUT:\n",
        "    #x is a column vector corresponding to the x-coordinates in the data set\n",
        "    #y is a column vector corresponding to the y-coordinates in the data set\n",
        "    #n is the desired number of steps to take (default 10)\n",
        "    #score_goal is an optional parameter - in case an optimal score for the loss function E_X is known in advance, \n",
        "    #then a certain accuracy may be demanded from the method (default 0). The method will still not progress beyond\n",
        "    #n steps. \n",
        "    #OUTPUT:\n",
        "    #function returns the coefficients a1 and a0, such that the best approximation for the data set\n",
        "    #is the line y(x) = x*a1 + a0\n",
        "    a1 = (y[-1]-y[0])/(x[-1]-x[0])\n",
        "    a0 = a1*x[0]+y[0]\n",
        "    for i in range(max_iter):\n",
        "        A1 = np.sum(x*(a1*x+a0-y))\n",
        "        A0 = np.sum(a1*x+a0-y)\n",
        "        s = np.sum((x*A1+A0)*(x*a1+a0-y))/(np.sum((x*A1+A0)**2))\n",
        "        a0, a1 = np.array([a0, a1]-s*np.array([A0, A1]))\n",
        "        if score_goal > 0 and E_X(x, y, a0, a1) < score_goal: break\n",
        "        \n",
        "    return a0, a1"
      ],
      "execution_count": null,
      "outputs": []
    },
    {
      "cell_type": "markdown",
      "metadata": {
        "id": "4hqE-G2ujsyd"
      },
      "source": [
        "Let's see the method at work. We can also track each step and observe how quickly it converges to the optimal point. "
      ]
    },
    {
      "cell_type": "code",
      "metadata": {
        "id": "jIbrA77Yjsye",
        "colab": {
          "base_uri": "https://localhost:8080/",
          "height": 299
        },
        "outputId": "7a71bbe7-929b-47b4-9582-ce9a4cb92642"
      },
      "source": [
        "a0_gd, a1_gd = regress_via_grad_des(x, y, 100, E_X(x, y, a0_svd, a1_svd))\n",
        "plt.plot(x, y, 'C0o', x, a0_gd+a1_gd*x, 'C1-')"
      ],
      "execution_count": null,
      "outputs": [
        {
          "output_type": "execute_result",
          "data": {
            "text/plain": [
              "[<matplotlib.lines.Line2D at 0x7f4e8c31f550>,\n",
              " <matplotlib.lines.Line2D at 0x7f4e8c31f668>]"
            ]
          },
          "metadata": {
            "tags": []
          },
          "execution_count": 8
        },
        {
          "output_type": "display_data",
          "data": {
            "image/png": "[encoded data removed]",
            "text/plain": [
              "<Figure size 432x288 with 1 Axes>"
            ]
          },
          "metadata": {
            "tags": []
          }
        }
      ]
    },
    {
      "cell_type": "markdown",
      "metadata": {
        "id": "diQcTC9vjsyg"
      },
      "source": [
        "Using the loss function, $E_X$, we can measure the accuracy of each method, as well as track the accuracy for the gradient descent approach in each step. "
      ]
    },
    {
      "cell_type": "code",
      "metadata": {
        "id": "fBv6CFQ_jsyh",
        "colab": {
          "base_uri": "https://localhost:8080/",
          "height": 68
        },
        "outputId": "8c71cae4-eac3-4181-e323-e63410fd06d9"
      },
      "source": [
        "score_svd = E_X(x, y, a0_svd, a1_svd)\n",
        "score_gd = E_X(x, y, a0_gd, a1_gd)\n",
        "print(\"SVD score: \", score_svd, \"\\nGD score: \", score_gd)\n",
        "print(\"Difference (SD-GD): \", '{:.2e}'.format(score_svd-score_gd))"
      ],
      "execution_count": null,
      "outputs": [
        {
          "output_type": "stream",
          "text": [
            "SVD score:  16.904686757486598 \n",
            "GD score:  16.904686757552284\n",
            "Difference (SD-GD):  -6.57e-11\n"
          ],
          "name": "stdout"
        }
      ]
    },
    {
      "cell_type": "raw",
      "metadata": {
        "id": "eWuFu-tTjsyj"
      },
      "source": [
        "score_svd"
      ]
    },
    {
      "cell_type": "code",
      "metadata": {
        "id": "mcKbnVTwjsyk",
        "colab": {
          "base_uri": "https://localhost:8080/",
          "height": 265
        },
        "outputId": "07c10b8e-5e2f-4be9-d215-34ca6b7921c3"
      },
      "source": [
        "score_gd_vec = np.zeros(100)\n",
        "#track the score for regress_via_grad_des in each iteration\n",
        "for i in range(len(score_gd_vec)):\n",
        "    a0_temp, a1_temp = regress_via_grad_des(x, y, i)\n",
        "    score_gd_vec[i] = E_X(x, y, a0_temp, a1_temp)\n",
        "\n",
        "%matplotlib inline\n",
        "plt.plot(range(len(score_gd_vec)), np.abs(score_gd_vec-score_svd), 'r-', lw=2)\n",
        "plt.yscale('log')"
      ],
      "execution_count": null,
      "outputs": [
        {
          "output_type": "display_data",
          "data": {
            "image/png": "[encoded data removed]",
            "text/plain": [
              "<Figure size 432x288 with 1 Axes>"
            ]
          },
          "metadata": {
            "tags": []
          }
        }
      ]
    },
    {
      "cell_type": "markdown",
      "metadata": {
        "id": "PX4k5Uisjsyn"
      },
      "source": [
        "We can clearly see that the accuracy of the GD method increases exponentially until stabilizing after about 60 iterations. Note that the accuracy here is measured as an absolute value versus the accuracy of the SVD method, which *isn't necessarily the perfect solution*, which explains the erratic behavior after those 60 iterations. \n",
        "\n",
        "A reasonable question to ask would be \"which one is faster?\" We will conduct a series of empirical tests for the two methods using various datasets. We will run each test using the SVD method first, and then demand that the GD method achieves an equal or better score each time. "
      ]
    },
    {
      "cell_type": "code",
      "metadata": {
        "id": "Q3QDVsaYjsyn",
        "colab": {
          "base_uri": "https://localhost:8080/",
          "height": 85
        },
        "outputId": "1d58dfc1-f57d-47dd-bf3c-fa7a97dc8f53"
      },
      "source": [
        "import time\n",
        "\n",
        "#conduct 1,000 tests using a set of 21 points\n",
        "num_tests = 1000\n",
        "num_points = 21\n",
        "scores_svd = np.zeros(num_tests)\n",
        "x_21 = np.zeros((num_tests, num_points))\n",
        "y_21 = np.zeros((num_tests, num_points))\n",
        "for i in range(num_tests):\n",
        "    x_21[i,:], y_21[i,:] = get_data_set(0, 20, num_points)\n",
        "    \n",
        "t1 = time.time()\n",
        "for i in range(num_tests):\n",
        "    a0_temp, a1_temp = regress_via_svd(x_21[i,:], y_21[i,:])\n",
        "    scores_svd[i] = E_X(x_21, y_21, a0_temp, a1_temp)\n",
        "t2 = time.time()\n",
        "t_svd_21 = t2-t1\n",
        "print(t_svd_21, \"s (\", num_tests, \"tests with\", num_points, \"points via SVD)\")\n",
        "\n",
        "t1 = time.time()\n",
        "for i in range(num_tests):\n",
        "    regress_via_grad_des(x_21[i,:], y_21[i,:], 100, scores_svd[i])\n",
        "t2 = time.time()\n",
        "t_gd_21 = t2-t1\n",
        "print(t_gd_21, \"s (\", num_tests, \"tests with\", num_points, \"points via GD)\")\n",
        "\n",
        "#conduct 1,000 tests using a set of 1,000 points\n",
        "num_tests = 1000\n",
        "num_points = 1000\n",
        "scores_svd = np.zeros(num_tests)\n",
        "x_1000 = np.zeros((num_tests, num_points))\n",
        "y_1000 = np.zeros((num_tests, num_points))\n",
        "for i in range(num_tests):\n",
        "    x_1000[i,:], y_1000[i,:] = get_data_set(0, 20, num_points)\n",
        "    \n",
        "t1 = time.time()\n",
        "for i in range(num_tests):\n",
        "    a0_temp, a1_temp = regress_via_svd(x_1000[i,:], y_1000[i,:])\n",
        "    scores_svd[i] = E_X(x_21, y_21, a0_temp, a1_temp)\n",
        "t2 = time.time()\n",
        "t_svd_1000 = t2-t1\n",
        "print(t_svd_1000, \"s (\", num_tests, \"tests with\", num_points, \"points via SVD)\")\n",
        "\n",
        "t1 = time.time()\n",
        "for i in range(num_tests):\n",
        "    regress_via_grad_des(x_1000[i,:], y_1000[i,:], 100, scores_svd[i])\n",
        "t2 = time.time()\n",
        "t_gd_1000 = t2-t1\n",
        "print(t_gd_1000, \"s (\", num_tests, \"tests with\", num_points, \"points via GD)\")"
      ],
      "execution_count": null,
      "outputs": [
        {
          "output_type": "stream",
          "text": [
            "0.15254688262939453 s ( 1000 tests with 21 points via SVD)\n",
            "0.06877398490905762 s ( 1000 tests with 21 points via GD)\n",
            "10.179675340652466 s ( 1000 tests with 1000 points via SVD)\n",
            "0.12235069274902344 s ( 1000 tests with 1000 points via GD)\n"
          ],
          "name": "stdout"
        }
      ]
    },
    {
      "cell_type": "markdown",
      "metadata": {
        "id": "du_KwhKKjsyq"
      },
      "source": [
        "The results here are very lopsided - while the SVD approach took over 100 times as long to solve the harder test, while the time to solve the gradient descent algorithm with 1,000 points is less even than the time it took the SVD method to solve the easier problem, while simultaneously achieving greater accuracy. We will now compare the increase in time necessary to achieve the solution for either method, with respect to an increasing complexity of the problem (more points with each iteration). "
      ]
    },
    {
      "cell_type": "code",
      "metadata": {
        "id": "8Kx1vEW5jsyr",
        "colab": {
          "base_uri": "https://localhost:8080/",
          "height": 283
        },
        "outputId": "df486451-45ca-42c0-9466-767c6da69a42"
      },
      "source": [
        "num_tests = 1000\n",
        "num_start = 100\n",
        "t_svd = np.zeros(num_tests-num_start)\n",
        "t_gd = np.zeros(num_tests-num_start)\n",
        "for i in range(num_start, num_tests):\n",
        "    x_temp, y_temp = get_data_set(n = i)\n",
        "    t1 = time.time()\n",
        "    a0, a1 = regress_via_svd(x_temp, y_temp)\n",
        "    t2 = time.time()\n",
        "    t_svd[i-num_start] = t2-t1\n",
        "    score = E_X(x_temp, y_temp, a0_temp, a1_temp)\n",
        "    t1 = time.time()\n",
        "    regress_via_grad_des(x, y, 1000, score)\n",
        "    t2 = time.time()\n",
        "    t_gd[i-num_start]=t2-t1\n",
        "    \n",
        "plt.plot(range(num_start, num_tests), t_svd, 'r.', range(num_start, num_tests), t_gd, 'b.')\n",
        "plt.legend(['SVD', 'Gradient Descent'])"
      ],
      "execution_count": null,
      "outputs": [
        {
          "output_type": "execute_result",
          "data": {
            "text/plain": [
              "<matplotlib.legend.Legend at 0x7f4e8c28eb38>"
            ]
          },
          "metadata": {
            "tags": []
          },
          "execution_count": 12
        },
        {
          "output_type": "display_data",
          "data": {
            "image/png": "[encoded data removed]",
            "text/plain": [
              "<Figure size 432x288 with 1 Axes>"
            ]
          },
          "metadata": {
            "tags": []
          }
        }
      ]
    },
    {
      "cell_type": "markdown",
      "metadata": {
        "id": "BtKn9SJPjsyu"
      },
      "source": [
        "In conclusion, while it isn't clear how the tests would compare in an n-dimensional scenario, gradient descent seems to clearly be the better approach when it comes to two-dimensional problems. "
      ]
    }
  ]
}